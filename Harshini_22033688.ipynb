{
  "cells": [
    {
      "cell_type": "code",
      "execution_count": null,
      "id": "57e8408d",
      "metadata": {
        "id": "57e8408d"
      },
      "outputs": [],
      "source": [
        "import pandas as pd\n",
        "import seaborn as sns\n",
        "def output(filename):  ######## This function takes filename as argument and returns the contents of the file as dataframe\n",
        "    df = pd.read_csv(filename)\n",
        "    return df\n",
        "df = output(r\"API_19_DS2_en_csv_v2_3931355.csv\") "
      ]
    },
    {
      "cell_type": "code",
      "execution_count": null,
      "id": "f5acf2a1",
      "metadata": {
        "id": "f5acf2a1",
        "outputId": "7f25bc84-3b61-4f0c-de65-46b74eed2649"
      },
      "outputs": [
        {
          "name": "stdout",
          "output_type": "stream",
          "text": [
            "<class 'pandas.core.frame.DataFrame'>\n",
            "RangeIndex: 20216 entries, 0 to 20215\n",
            "Data columns (total 65 columns):\n",
            " #   Column          Non-Null Count  Dtype  \n",
            "---  ------          --------------  -----  \n",
            " 0   Country Name    20216 non-null  object \n",
            " 1   Country Code    20216 non-null  object \n",
            " 2   Indicator Name  20216 non-null  object \n",
            " 3   Indicator Code  20216 non-null  object \n",
            " 4   1960            3140 non-null   float64\n",
            " 5   1961            4546 non-null   float64\n",
            " 6   1962            4727 non-null   float64\n",
            " 7   1963            4587 non-null   float64\n",
            " 8   1964            4643 non-null   float64\n",
            " 9   1965            4679 non-null   float64\n",
            " 10  1966            4690 non-null   float64\n",
            " 11  1967            4859 non-null   float64\n",
            " 12  1968            4711 non-null   float64\n",
            " 13  1969            4718 non-null   float64\n",
            " 14  1970            5987 non-null   float64\n",
            " 15  1971            7338 non-null   float64\n",
            " 16  1972            7545 non-null   float64\n",
            " 17  1973            7358 non-null   float64\n",
            " 18  1974            7367 non-null   float64\n",
            " 19  1975            7386 non-null   float64\n",
            " 20  1976            7410 non-null   float64\n",
            " 21  1977            7660 non-null   float64\n",
            " 22  1978            7430 non-null   float64\n",
            " 23  1979            7437 non-null   float64\n",
            " 24  1980            7470 non-null   float64\n",
            " 25  1981            7543 non-null   float64\n",
            " 26  1982            7801 non-null   float64\n",
            " 27  1983            7553 non-null   float64\n",
            " 28  1984            7562 non-null   float64\n",
            " 29  1985            7583 non-null   float64\n",
            " 30  1986            7600 non-null   float64\n",
            " 31  1987            7951 non-null   float64\n",
            " 32  1988            7605 non-null   float64\n",
            " 33  1989            7608 non-null   float64\n",
            " 34  1990            11931 non-null  float64\n",
            " 35  1991            10690 non-null  float64\n",
            " 36  1992            11414 non-null  float64\n",
            " 37  1993            11033 non-null  float64\n",
            " 38  1994            11113 non-null  float64\n",
            " 39  1995            11171 non-null  float64\n",
            " 40  1996            11174 non-null  float64\n",
            " 41  1997            11617 non-null  float64\n",
            " 42  1998            11187 non-null  float64\n",
            " 43  1999            11307 non-null  float64\n",
            " 44  2000            13728 non-null  float64\n",
            " 45  2001            11476 non-null  float64\n",
            " 46  2002            12033 non-null  float64\n",
            " 47  2003            11550 non-null  float64\n",
            " 48  2004            11704 non-null  float64\n",
            " 49  2005            12261 non-null  float64\n",
            " 50  2006            11850 non-null  float64\n",
            " 51  2007            12393 non-null  float64\n",
            " 52  2008            12170 non-null  float64\n",
            " 53  2009            11940 non-null  float64\n",
            " 54  2010            14072 non-null  float64\n",
            " 55  2011            11840 non-null  float64\n",
            " 56  2012            12324 non-null  float64\n",
            " 57  2013            10823 non-null  float64\n",
            " 58  2014            10809 non-null  float64\n",
            " 59  2015            10058 non-null  float64\n",
            " 60  2016            9149 non-null   float64\n",
            " 61  2017            8067 non-null   float64\n",
            " 62  2018            7445 non-null   float64\n",
            " 63  2019            3718 non-null   float64\n",
            " 64  2020            2999 non-null   float64\n",
            "dtypes: float64(61), object(4)\n",
            "memory usage: 10.0+ MB\n"
          ]
        }
      ],
      "source": [
        "df.info() #### Dataframe information"
      ]
    },
    {
      "cell_type": "code",
      "execution_count": null,
      "id": "1748ed25",
      "metadata": {
        "id": "1748ed25",
        "outputId": "495fa65c-5ae5-4ddf-ffd6-610b007fc3ca"
      },
      "outputs": [
        {
          "data": {
            "text/plain": [
              "Urban population (% of total population)                                                      266\n",
              "CO2 intensity (kg per kg of oil equivalent energy use)                                        266\n",
              "Renewable electricity output (% of total electricity output)                                  266\n",
              "Electricity production from renewable sources, excluding hydroelectric (kWh)                  266\n",
              "Electricity production from renewable sources, excluding hydroelectric (% of total)           266\n",
              "                                                                                             ... \n",
              "GHG net emissions/removals by LUCF (Mt of CO2 equivalent)                                     266\n",
              "Droughts, floods, extreme temperatures (% of population, average 1990-2009)                   266\n",
              "Rural population living in areas where elevation is below 5 meters (% of total population)    266\n",
              "Urban population living in areas where elevation is below 5 meters (% of total population)    266\n",
              "Agricultural land (sq. km)                                                                    266\n",
              "Name: Indicator Name, Length: 76, dtype: int64"
            ]
          },
          "execution_count": 15,
          "metadata": {},
          "output_type": "execute_result"
        }
      ],
      "source": [
        "df['Indicator Name'].value_counts()"
      ]
    },
    {
      "cell_type": "code",
      "execution_count": null,
      "id": "facaec37",
      "metadata": {
        "id": "facaec37",
        "outputId": "9274435f-7206-48d7-8f7e-375657610d7f"
      },
      "outputs": [
        {
          "data": {
            "image/png": "[encoded data removed]",
            "text/plain": [
              "<Figure size 432x288 with 1 Axes>"
            ]
          },
          "metadata": {
            "needs_background": "light"
          },
          "output_type": "display_data"
        }
      ],
      "source": [
        "import matplotlib.pyplot as plt\n",
        "from sklearn.cluster import KMeans\n",
        "from sklearn.decomposition import PCA\n",
        "import seaborn as sns\n",
        "\n",
        "df_land = df.loc[df['Indicator Name'] == 'Arable land (% of land area)']\n",
        "\n",
        "df_land = df_land.drop(columns=['Country Code', 'Indicator Name', 'Indicator Code' ,'1960','2019','2020'])\n",
        "\n",
        "\n",
        "df_land = df_land.dropna()\n",
        "\n",
        "df_land = df_land.reset_index(drop=True)\n",
        "df_land = df_land.set_index('Country Name')\n",
        "\n",
        "\n",
        "def f(s):\n",
        "    return s/s.max()\n",
        "\n",
        "df_new = df_land.apply(f, axis=0)\n",
        "clustering_kmeans = KMeans(n_clusters=5)\n",
        "kmeans = clustering_kmeans.fit_predict(df_new)\n",
        "#Coordinates of cluster centers with shape [n_clusters, n_features]\n",
        "clustering_kmeans.fit(df_new).cluster_centers_\n",
        "#Labels of each point\n",
        "clustering_kmeans.fit(df_new).labels_\n",
        "\n",
        "z=df_new[clustering_kmeans.labels_==3] #### selecting countries from cluster number 3\n",
        "\n",
        "### Run PCA on the data and reduce the dimensions in pca_num_components dimensions\n",
        "\n",
        "pca_num_components = 2\n",
        "\n",
        "reduced_data = PCA(n_components=pca_num_components).fit_transform(df_new)\n",
        "results = pd.DataFrame(reduced_data,columns=['pca1','pca2'])\n",
        "\n",
        "sns.scatterplot(x=\"pca1\", y=\"pca2\", hue=kmeans, data=results,\n",
        "              palette=['purple','red','orange','lightgreen','dodgerblue'],\n",
        "              legend='full',)\n",
        "plt.title('K-means Clustering with 2 dimensions')\n",
        "plt.savefig('kmeans.jpg')\n",
        "plt.show()"
      ]
    },
    {
      "cell_type": "code",
      "execution_count": null,
      "id": "34e72e43",
      "metadata": {
        "id": "34e72e43",
        "outputId": "53768432-e62f-467f-a4e6-5b3d1623e5a8"
      },
      "outputs": [
        {
          "name": "stdout",
          "output_type": "stream",
          "text": [
            "            Country Name      1961      1962      1963      1964      1965  \\\n",
            "0                Burundi  0.396757  0.412731  0.426485  0.436491  0.436608   \n",
            "1                Belgium  0.463134  0.463190  0.461377  0.458130  0.450076   \n",
            "2               Bulgaria  0.580145  0.568535  0.565819  0.569247  0.558619   \n",
            "3               Barbados  0.561652  0.563398  0.562874  0.560594  0.551844   \n",
            "4                Comoros  0.527209  0.528848  0.528356  0.526216  0.518002   \n",
            "5                   Cuba  0.203789  0.212176  0.224233  0.247172  0.223705   \n",
            "6                Germany  0.528324  0.528448  0.527090  0.524782  0.516251   \n",
            "7              Euro area  0.460420  0.461159  0.459773  0.452725  0.443449   \n",
            "8                  Spain  0.490663  0.493703  0.490490  0.479882  0.473786   \n",
            "9         European Union  0.482441  0.482457  0.479707  0.474052  0.463531   \n",
            "10                France  0.540466  0.540045  0.537471  0.524920  0.509089   \n",
            "11        United Kingdom  0.447660  0.452869  0.454887  0.457964  0.449896   \n",
            "12           Gambia, The  0.180477  0.182534  0.183859  0.184603  0.183187   \n",
            "13                 Haiti  0.492923  0.494456  0.493996  0.491995  0.484315   \n",
            "14           Isle of Man  0.662035  0.664093  0.655514  0.639643  0.634863   \n",
            "15                 Italy  0.660108  0.658710  0.651874  0.645341  0.631536   \n",
            "16                 Malta  0.801890  0.757066  0.709090  0.659136  0.602502   \n",
            "17                Malawi  0.208132  0.224839  0.232653  0.239700  0.267420   \n",
            "18               Nigeria  0.392396  0.405644  0.440427  0.454427  0.481514   \n",
            "19           Netherlands  0.443532  0.433250  0.425230  0.418152  0.407671   \n",
            "20              Pakistan  0.598779  0.602801  0.603026  0.609768  0.617181   \n",
            "21                Rwanda  0.296749  0.300740  0.303526  0.305350  0.303590   \n",
            "22           El Salvador  0.353289  0.354387  0.354057  0.350455  0.341429   \n",
            "23  Syrian Arab Republic  0.504790  0.510808  0.518564  0.525481  0.511791   \n",
            "24                  Togo  0.499539  0.501092  0.500626  0.498598  0.490815   \n",
            "25              Thailand  0.307271  0.314154  0.319784  0.324386  0.325129   \n",
            "26                Turkey  0.451344  0.455068  0.469662  0.466369  0.459417   \n",
            "27                Uganda  0.237963  0.242492  0.247490  0.285395  0.279678   \n",
            "\n",
            "        1966      1967      1968      1969  ...      2009      2010      2011  \\\n",
            "0   0.433837  0.451692  0.459298  0.570758  ...  0.617686  0.618082  0.660188   \n",
            "1   0.448100  0.444025  0.444280  0.444788  ...  0.463194  0.460180  0.461914   \n",
            "2   0.557151  0.551655  0.553596  0.555324  ...  0.483869  0.490336  0.507547   \n",
            "3   0.550527  0.547725  0.548594  0.549777  ...  0.504794  0.466263  0.433698   \n",
            "4   0.516766  0.514136  0.514952  0.516062  ...  0.583185  0.583559  0.592147   \n",
            "5   0.213666  0.232041  0.267277  0.267303  ...  0.540567  0.531182  0.526903   \n",
            "6   0.515104  0.508013  0.508101  0.507885  ...  0.572118  0.567805  0.577589   \n",
            "7   0.436352  0.432095  0.429073  0.429971  ...  0.405215  0.405708  0.408947   \n",
            "8   0.459126  0.463593  0.462912  0.475441  ...  0.418447  0.418621  0.421535   \n",
            "9   0.458032  0.453575  0.451445  0.451660  ...  0.428748  0.424891  0.430298   \n",
            "10  0.498876  0.485934  0.473322  0.473965  ...  0.556699  0.558414  0.565818   \n",
            "11  0.447905  0.444713  0.443468  0.437462  ...  0.417477  0.412290  0.424804   \n",
            "12  0.184212  0.186183  0.186479  0.189801  ...  0.706159  0.742933  0.753867   \n",
            "13  0.483159  0.480701  0.481463  0.482501  ...  0.621795  0.666855  0.652063   \n",
            "14  0.602199  0.596552  0.589738  0.585826  ...  0.750487  0.743934  0.742688   \n",
            "15  0.626004  0.620066  0.618893  0.613949  ...  0.396280  0.400000  0.387327   \n",
            "16  0.601063  0.598005  0.598953  0.600245  ...  0.417426  0.474082  0.481059   \n",
            "17  0.274628  0.265424  0.281483  0.289926  ...  0.619851  0.655692  0.647360   \n",
            "18  0.440335  0.472147  0.472233  0.563159  ...  0.586652  0.605373  0.632897   \n",
            "19  0.393113  0.380648  0.377321  0.369819  ...  0.522098  0.506532  0.505793   \n",
            "20  0.619162  0.616966  0.612207  0.585352  ...  0.637228  0.636987  0.661976   \n",
            "21  0.305864  0.307291  0.311364  0.316228  ...  0.757268  0.761174  0.784417   \n",
            "22  0.333518  0.324760  0.323861  0.322434  ...  0.539108  0.534615  0.549848   \n",
            "23  0.472812  0.470646  0.447406  0.452230  ...  0.424608  0.426451  0.430419   \n",
            "24  0.489644  0.487152  0.487925  0.488977  ...  0.736769  0.755673  0.766794   \n",
            "25  0.330145  0.334227  0.340529  0.347047  ...  0.512948  0.515402  0.522988   \n",
            "26  0.461377  0.455893  0.461520  0.484381  ...  0.463207  0.464221  0.452439   \n",
            "27  0.279603  0.277885  0.278916  0.279518  ...  0.551526  0.562424  0.579156   \n",
            "\n",
            "        2012      2013      2014      2015      2016      2017      2018  \n",
            "0   0.708600  0.776358  0.768569  0.786669  0.783429  0.784124  0.781421  \n",
            "1   0.438696  0.447724  0.443775  0.461175  0.470295  0.463286  0.469420  \n",
            "2   0.505451  0.532427  0.528146  0.544259  0.539902  0.539312  0.535746  \n",
            "3   0.384712  0.367055  0.344247  0.313204  0.272925  0.273167  0.272225  \n",
            "4   0.577791  0.580287  0.574465  0.587994  0.585572  0.595109  0.593057  \n",
            "5   0.486262  0.503172  0.488262  0.487366  0.481691  0.470203  0.468582  \n",
            "6   0.561672  0.565548  0.559512  0.571645  0.564445  0.565410  0.561482  \n",
            "7   0.402551  0.400473  0.395049  0.403127  0.400627  0.400794  0.394092  \n",
            "8   0.415706  0.404582  0.403712  0.413681  0.414036  0.411615  0.397782  \n",
            "9   0.421196  0.417108  0.412346  0.420941  0.417599  0.417794  0.413683  \n",
            "10  0.552320  0.555434  0.550685  0.568130  0.562031  0.565853  0.553581  \n",
            "11  0.424762  0.430264  0.423778  0.418276  0.417594  0.421908  0.417337  \n",
            "12  0.719243  0.722350  0.715103  0.731944  0.728930  0.729576  0.727061  \n",
            "13  0.600239  0.645030  0.638559  0.653597  0.650906  0.651483  0.649237  \n",
            "14  0.623975  0.638330  0.637696  0.685202  0.691205  0.677098  0.677698  \n",
            "15  0.400320  0.385613  0.376208  0.377799  0.381716  0.384294  0.377606  \n",
            "16  0.465261  0.465713  0.461040  0.471898  0.475194  0.475615  0.473976  \n",
            "17  0.631665  0.634393  0.628028  0.642819  0.640172  0.640740  0.638531  \n",
            "18  0.635716  0.620220  0.613998  0.628457  0.625870  0.626425  0.624265  \n",
            "19  0.495984  0.512082  0.510166  0.520991  0.511875  0.516814  0.507086  \n",
            "20  0.648931  0.656691  0.649463  0.663884  0.673982  0.679369  0.661777  \n",
            "21  0.771628  0.796357  0.766366  0.785915  0.782679  0.783373  0.780673  \n",
            "22  0.554081  0.552465  0.560417  0.545178  0.560734  0.515880  0.506030  \n",
            "23  0.420254  0.421798  0.417566  0.427400  0.425640  0.426017  0.424549  \n",
            "24  0.805992  0.809473  0.801352  0.820224  0.816846  0.817571  0.814752  \n",
            "25  0.536212  0.546658  0.541174  0.553919  0.551638  0.552127  0.550223  \n",
            "26  0.442287  0.444132  0.442348  0.451693  0.443995  0.436017  0.428538  \n",
            "27  0.569240  0.571698  0.565963  0.579291  0.576906  0.577418  0.575427  \n",
            "\n",
            "[28 rows x 59 columns]\n",
            "<class 'pandas.core.frame.DataFrame'>\n",
            "RangeIndex: 28 entries, 0 to 27\n",
            "Data columns (total 59 columns):\n",
            " #   Column        Non-Null Count  Dtype  \n",
            "---  ------        --------------  -----  \n",
            " 0   Country Name  28 non-null     object \n",
            " 1   1961          28 non-null     float64\n",
            " 2   1962          28 non-null     float64\n",
            " 3   1963          28 non-null     float64\n",
            " 4   1964          28 non-null     float64\n",
            " 5   1965          28 non-null     float64\n",
            " 6   1966          28 non-null     float64\n",
            " 7   1967          28 non-null     float64\n",
            " 8   1968          28 non-null     float64\n",
            " 9   1969          28 non-null     float64\n",
            " 10  1970          28 non-null     float64\n",
            " 11  1971          28 non-null     float64\n",
            " 12  1972          28 non-null     float64\n",
            " 13  1973          28 non-null     float64\n",
            " 14  1974          28 non-null     float64\n",
            " 15  1975          28 non-null     float64\n",
            " 16  1976          28 non-null     float64\n",
            " 17  1977          28 non-null     float64\n",
            " 18  1978          28 non-null     float64\n",
            " 19  1979          28 non-null     float64\n",
            " 20  1980          28 non-null     float64\n",
            " 21  1981          28 non-null     float64\n",
            " 22  1982          28 non-null     float64\n",
            " 23  1983          28 non-null     float64\n",
            " 24  1984          28 non-null     float64\n",
            " 25  1985          28 non-null     float64\n",
            " 26  1986          28 non-null     float64\n",
            " 27  1987          28 non-null     float64\n",
            " 28  1988          28 non-null     float64\n",
            " 29  1989          28 non-null     float64\n",
            " 30  1990          28 non-null     float64\n",
            " 31  1991          28 non-null     float64\n",
            " 32  1992          28 non-null     float64\n",
            " 33  1993          28 non-null     float64\n",
            " 34  1994          28 non-null     float64\n",
            " 35  1995          28 non-null     float64\n",
            " 36  1996          28 non-null     float64\n",
            " 37  1997          28 non-null     float64\n",
            " 38  1998          28 non-null     float64\n",
            " 39  1999          28 non-null     float64\n",
            " 40  2000          28 non-null     float64\n",
            " 41  2001          28 non-null     float64\n",
            " 42  2002          28 non-null     float64\n",
            " 43  2003          28 non-null     float64\n",
            " 44  2004          28 non-null     float64\n",
            " 45  2005          28 non-null     float64\n",
            " 46  2006          28 non-null     float64\n",
            " 47  2007          28 non-null     float64\n",
            " 48  2008          28 non-null     float64\n",
            " 49  2009          28 non-null     float64\n",
            " 50  2010          28 non-null     float64\n",
            " 51  2011          28 non-null     float64\n",
            " 52  2012          28 non-null     float64\n",
            " 53  2013          28 non-null     float64\n",
            " 54  2014          28 non-null     float64\n",
            " 55  2015          28 non-null     float64\n",
            " 56  2016          28 non-null     float64\n",
            " 57  2017          28 non-null     float64\n",
            " 58  2018          28 non-null     float64\n",
            "dtypes: float64(58), object(1)\n",
            "memory usage: 13.0+ KB\n",
            "None\n"
          ]
        },
        {
          "data": {
            "text/html": [
              "<div>\n",
              "<style scoped>\n",
              "    .dataframe tbody tr th:only-of-type {\n",
              "        vertical-align: middle;\n",
              "    }\n",
              "\n",
              "    .dataframe tbody tr th {\n",
              "        vertical-align: top;\n",
              "    }\n",
              "\n",
              "    .dataframe thead th {\n",
              "        text-align: right;\n",
              "    }\n",
              "</style>\n",
              "<table border=\"1\" class=\"dataframe\">\n",
              "  <thead>\n",
              "    <tr style=\"text-align: right;\">\n",
              "      <th></th>\n",
              "      <th>Country Name</th>\n",
              "      <th>1961</th>\n",
              "      <th>1962</th>\n",
              "      <th>1963</th>\n",
              "      <th>1964</th>\n",
              "      <th>1965</th>\n",
              "      <th>1966</th>\n",
              "      <th>1967</th>\n",
              "      <th>1968</th>\n",
              "      <th>1969</th>\n",
              "      <th>...</th>\n",
              "      <th>2009</th>\n",
              "      <th>2010</th>\n",
              "      <th>2011</th>\n",
              "      <th>2012</th>\n",
              "      <th>2013</th>\n",
              "      <th>2014</th>\n",
              "      <th>2015</th>\n",
              "      <th>2016</th>\n",
              "      <th>2017</th>\n",
              "      <th>2018</th>\n",
              "    </tr>\n",
              "  </thead>\n",
              "  <tbody>\n",
              "    <tr>\n",
              "      <th>15</th>\n",
              "      <td>Italy</td>\n",
              "      <td>0.660108</td>\n",
              "      <td>0.65871</td>\n",
              "      <td>0.651874</td>\n",
              "      <td>0.645341</td>\n",
              "      <td>0.631536</td>\n",
              "      <td>0.626004</td>\n",
              "      <td>0.620066</td>\n",
              "      <td>0.618893</td>\n",
              "      <td>0.613949</td>\n",
              "      <td>...</td>\n",
              "      <td>0.39628</td>\n",
              "      <td>0.4</td>\n",
              "      <td>0.387327</td>\n",
              "      <td>0.40032</td>\n",
              "      <td>0.385613</td>\n",
              "      <td>0.376208</td>\n",
              "      <td>0.377799</td>\n",
              "      <td>0.381716</td>\n",
              "      <td>0.384294</td>\n",
              "      <td>0.377606</td>\n",
              "    </tr>\n",
              "  </tbody>\n",
              "</table>\n",
              "<p>1 rows × 59 columns</p>\n",
              "</div>"
            ],
            "text/plain": [
              "   Country Name      1961     1962      1963      1964      1965      1966  \\\n",
              "15        Italy  0.660108  0.65871  0.651874  0.645341  0.631536  0.626004   \n",
              "\n",
              "        1967      1968      1969  ...     2009  2010      2011     2012  \\\n",
              "15  0.620066  0.618893  0.613949  ...  0.39628   0.4  0.387327  0.40032   \n",
              "\n",
              "        2013      2014      2015      2016      2017      2018  \n",
              "15  0.385613  0.376208  0.377799  0.381716  0.384294  0.377606  \n",
              "\n",
              "[1 rows x 59 columns]"
            ]
          },
          "execution_count": 39,
          "metadata": {},
          "output_type": "execute_result"
        }
      ],
      "source": [
        "z.reset_index(drop=True)\n",
        "z=z.drop(columns=['index'])\n",
        "print(z)\n",
        "print(z.info())\n",
        "z.loc[z['Country Name'] == 'Italy']"
      ]
    },
    {
      "cell_type": "code",
      "execution_count": null,
      "id": "c57b0264",
      "metadata": {
        "id": "c57b0264",
        "outputId": "0874cef8-68f2-44c5-edc7-6fc83e0b660e"
      },
      "outputs": [
        {
          "name": "stdout",
          "output_type": "stream",
          "text": [
            "              Country Name  Year     Value\n",
            "0                  Burundi  1961  0.396757\n",
            "1                  Belgium  1961  0.463134\n",
            "2                 Bulgaria  1961  0.580145\n",
            "3                 Barbados  1961  0.561652\n",
            "4                  Comoros  1961  0.527209\n",
            "...                    ...   ...       ...\n",
            "1619  Syrian Arab Republic  2018  0.424549\n",
            "1620                  Togo  2018  0.814752\n",
            "1621              Thailand  2018  0.550223\n",
            "1622                Turkey  2018  0.428538\n",
            "1623                Uganda  2018  0.575427\n",
            "\n",
            "[1624 rows x 3 columns]\n"
          ]
        },
        {
          "name": "stderr",
          "output_type": "stream",
          "text": [
            "C:\\Users\\prita\\AppData\\Local\\Temp/ipykernel_18536/504938799.py:9: SettingWithCopyWarning: \n",
            "A value is trying to be set on a copy of a slice from a DataFrame.\n",
            "Try using .loc[row_indexer,col_indexer] = value instead\n",
            "\n",
            "See the caveats in the documentation: https://pandas.pydata.org/pandas-docs/stable/user_guide/indexing.html#returning-a-view-versus-a-copy\n",
            "  germany_df['Year'] = pd.to_numeric(germany_df[\"Year\"])\n"
          ]
        },
        {
          "data": {
            "image/png": "[encoded data removed]",
            "text/plain": [
              "<Figure size 432x288 with 1 Axes>"
            ]
          },
          "metadata": {
            "needs_background": "light"
          },
          "output_type": "display_data"
        }
      ],
      "source": [
        "import seaborn as sns\n",
        "from numpy import arange\n",
        "from pandas import read_csv\n",
        "from scipy.optimize import curve_fit\n",
        "\n",
        "z_melted = z.melt(id_vars=[\"Country Name\"], var_name=\"Year\", value_name=\"Value\")\n",
        "print(z_melted)\n",
        "germany_df = z_melted[z_melted[\"Country Name\"]==\"Germany\"]\n",
        "germany_df['Year'] = pd.to_numeric(germany_df[\"Year\"])\n",
        "\n",
        "\n",
        "# objective function\n",
        "def objective(x, a, b, c):\n",
        "    return a * x + b * x**2 + c\n",
        "\n",
        "x = germany_df[\"Year\"]\n",
        "y = germany_df[\"Value\"] \n",
        "\n",
        "# curve fit\n",
        "popt, _ = curve_fit(objective, x, y)\n",
        "# summarizing the parameter values\n",
        "a, b,c = popt\n",
        "# plot input vs output\n",
        "plt.scatter(x, y)\n",
        "# sequence of inputs between the smallest and largest known inputs\n",
        "x_line = arange(min(x), max(x), 1)\n",
        "# the output for the range\n",
        "y_line = objective(x_line, a, b,c)\n",
        "# line plot for the mapping function\n",
        "plt.plot(x_line, y_line, '--', color='green')\n",
        "plt.title(\"Arable land change over the years for Germany\")\n",
        "plt.xlabel(\"Years\")\n",
        "plt.ylabel(\"Arable land (% of land area)\")\n",
        "plt.savefig('samoa.jpg')\n",
        "plt.show()"
      ]
    },
    {
      "cell_type": "code",
      "execution_count": null,
      "id": "7ee788c6",
      "metadata": {
        "id": "7ee788c6",
        "outputId": "e62b7dec-b2ab-4249-b599-d7079ca27d9e"
      },
      "outputs": [
        {
          "name": "stderr",
          "output_type": "stream",
          "text": [
            "C:\\Users\\prita\\AppData\\Local\\Temp/ipykernel_18536/81515970.py:6: SettingWithCopyWarning: \n",
            "A value is trying to be set on a copy of a slice from a DataFrame.\n",
            "Try using .loc[row_indexer,col_indexer] = value instead\n",
            "\n",
            "See the caveats in the documentation: https://pandas.pydata.org/pandas-docs/stable/user_guide/indexing.html#returning-a-view-versus-a-copy\n",
            "  spain_df['Year'] = pd.to_numeric(spain_df[\"Year\"])\n"
          ]
        },
        {
          "data": {
            "image/png": "[encoded data removed]",
            "text/plain": [
              "<Figure size 432x288 with 1 Axes>"
            ]
          },
          "metadata": {
            "needs_background": "light"
          },
          "output_type": "display_data"
        }
      ],
      "source": [
        "import numpy as np\n",
        "from numpy import sin\n",
        "from numpy import sqrt\n",
        "\n",
        "spain_df = z_melted[z_melted[\"Country Name\"]==\"Spain\"]\n",
        "spain_df['Year'] = pd.to_numeric(spain_df[\"Year\"])\n",
        "# define the true objective function\n",
        "def objective(x, a, b):\n",
        "    return a * x + b\n",
        "\n",
        "\n",
        "x = spain_df[\"Year\"]\n",
        "y = spain_df[\"Value\"] \n",
        "\n",
        "# curve fit\n",
        "popt, _ = curve_fit(objective, x, y)\n",
        "# summarizing the parameter values\n",
        "a,b = popt\n",
        "# plot input vs output\n",
        "plt.scatter(x, y)\n",
        "# sequence of inputs between the smallest and largest known inputs\n",
        "x_line = arange(min(x), max(x), 1)\n",
        "# the output for the range\n",
        "y_line = objective(x_line, a,b)\n",
        "# a line plot for the mapping function\n",
        "plt.plot(x_line, y_line, '--', color='green')\n",
        "plt.title(\"Arable land change over the years for Spain\")\n",
        "plt.xlabel(\"Years\")\n",
        "plt.ylabel(\"Arable land (% of land area)\")\n",
        "plt.savefig('spain.jpg')\n",
        "plt.show()"
      ]
    },
    {
      "cell_type": "code",
      "execution_count": null,
      "id": "c6882248",
      "metadata": {
        "id": "c6882248",
        "outputId": "b30955b7-8d6d-47d5-9b43-ff2701d16c4b"
      },
      "outputs": [
        {
          "name": "stderr",
          "output_type": "stream",
          "text": [
            "C:\\Users\\prita\\AppData\\Local\\Temp/ipykernel_18536/1450099906.py:6: SettingWithCopyWarning: \n",
            "A value is trying to be set on a copy of a slice from a DataFrame.\n",
            "Try using .loc[row_indexer,col_indexer] = value instead\n",
            "\n",
            "See the caveats in the documentation: https://pandas.pydata.org/pandas-docs/stable/user_guide/indexing.html#returning-a-view-versus-a-copy\n",
            "  italy_df['Year'] = pd.to_numeric(italy_df[\"Year\"])\n"
          ]
        },
        {
          "data": {
            "image/png": "[encoded data removed]",
            "text/plain": [
              "<Figure size 432x288 with 1 Axes>"
            ]
          },
          "metadata": {
            "needs_background": "light"
          },
          "output_type": "display_data"
        }
      ],
      "source": [
        "import numpy as np\n",
        "from numpy import sin\n",
        "from numpy import sqrt\n",
        "\n",
        "italy_df = z_melted[z_melted[\"Country Name\"]==\"Italy\"]\n",
        "italy_df['Year'] = pd.to_numeric(italy_df[\"Year\"])\n",
        "# objective function\n",
        "def objective(x, a, b, c):\n",
        "    return a * x + b * x**2 + c\n",
        "\n",
        "x = italy_df[\"Year\"]\n",
        "y = italy_df[\"Value\"] \n",
        "\n",
        "# curve fit\n",
        "popg, _ = curve_fit(objective, x, y)\n",
        "# summarize the parameter values\n",
        "a, b,c = popg\n",
        "# plot input vs output\n",
        "plt.scatter(x, y)\n",
        "# sequence of inputs between the smallest and largest known inputs\n",
        "x_line = arange(min(x), max(x), 1)\n",
        "# the output for the range\n",
        "y_line = objective(x_line, a, b,c)\n",
        "# a line plot for the mapping function\n",
        "plt.plot(x_line, y_line, '--', color='green')\n",
        "plt.title(\"Arable land change over the years for Italy\")\n",
        "plt.xlabel(\"Years\")\n",
        "plt.ylabel(\"Arable land (% of land area)\")\n",
        "plt.savefig('italy.jpg')\n",
        "plt.show()"
      ]
    },
    {
      "cell_type": "code",
      "execution_count": null,
      "id": "f6705771",
      "metadata": {
        "id": "f6705771"
      },
      "outputs": [],
      "source": []
    }
  ],
  "metadata": {
    "kernelspec": {
      "display_name": "Python 3 (ipykernel)",
      "language": "python",
      "name": "python3"
    },
    "language_info": {
      "codemirror_mode": {
        "name": "ipython",
        "version": 3
      },
      "file_extension": ".py",
      "mimetype": "text/x-python",
      "name": "python",
      "nbconvert_exporter": "python",
      "pygments_lexer": "ipython3",
      "version": "3.9.7"
    },
    "colab": {
      "provenance": []
    }
  },
  "nbformat": 4,
  "nbformat_minor": 5
}